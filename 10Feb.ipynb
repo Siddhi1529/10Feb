{
  "nbformat": 4,
  "nbformat_minor": 0,
  "metadata": {
    "colab": {
      "provenance": []
    },
    "kernelspec": {
      "name": "python3",
      "display_name": "Python 3"
    },
    "language_info": {
      "name": "python"
    }
  },
  "cells": [
    {
      "cell_type": "markdown",
      "source": [
        "Q1. Which function is used to open a file? What are the different modes of opening a file? Explain each mode\n",
        "of file opening.\n"
      ],
      "metadata": {
        "id": "apUcBp2BgQ-u"
      }
    },
    {
      "cell_type": "markdown",
      "source": [
        "In Python, the function used to open a file is open()\n",
        "\n",
        "Various modes are as follows-\n",
        "\n",
        "'r': Read (file must exist).\n",
        "\n",
        "'w': Write (creates a new file or overwrites an existing one).\n",
        "\n",
        "'a': Append (adds data to the end, creating the file if it doesn't exist)."
      ],
      "metadata": {
        "id": "sRY46Hfrg6Pc"
      }
    },
    {
      "cell_type": "code",
      "source": [
        "\n"
      ],
      "metadata": {
        "id": "d-qhiKgVgTzB"
      },
      "execution_count": null,
      "outputs": []
    },
    {
      "cell_type": "markdown",
      "source": [
        "Q2. Why close() function is used? Why is it important to close a file?\n"
      ],
      "metadata": {
        "id": "s-FazdGCgT5-"
      }
    },
    {
      "cell_type": "markdown",
      "source": [
        "The close() function is used to close a file after operations are completed.\n",
        "\n",
        "Importance of Closing a File:\n",
        "\n",
        "Releases Resources: Frees up system resources like file handles.\n",
        "\n",
        "Prevents Data Loss: Ensures buffered data is written to the file.\n",
        "\n",
        "Avoids Corruption: Reduces the risk of file corruption during write operations.\n",
        "\n",
        "Good Practice: Promotes efficient resource management in programs.\n"
      ],
      "metadata": {
        "id": "j25bFC-mh1iI"
      }
    },
    {
      "cell_type": "code",
      "source": [],
      "metadata": {
        "id": "Aa-BDTJjgVC6"
      },
      "execution_count": null,
      "outputs": []
    },
    {
      "cell_type": "markdown",
      "source": [
        "Q3. Write a python program to create a text file. Write ‘I want to become a Data Scientist’ in that file. Then\n",
        "close the file. Open this file and read the content of the file.\n"
      ],
      "metadata": {
        "id": "Y-1KwvZZgVN4"
      }
    },
    {
      "cell_type": "code",
      "source": [
        "# Create and write to a file\n",
        "with open('data_scientist.txt', 'w') as file:\n",
        "    file.write('I want to become a Data Scientist')\n",
        "\n",
        "# Open and read the content of the file\n",
        "with open('data_scientist.txt', 'r') as file:\n",
        "    content = file.read()\n",
        "\n",
        "# Print the content\n",
        "print(content)\n"
      ],
      "metadata": {
        "colab": {
          "base_uri": "https://localhost:8080/"
        },
        "id": "VWW5M45hgZh_",
        "outputId": "2d9d53c2-1ef1-4b3e-b416-0d2e27e8168e"
      },
      "execution_count": 1,
      "outputs": [
        {
          "output_type": "stream",
          "name": "stdout",
          "text": [
            "I want to become a Data Scientist\n"
          ]
        }
      ]
    },
    {
      "cell_type": "code",
      "source": [],
      "metadata": {
        "id": "xJcmUBOBiH1Z"
      },
      "execution_count": null,
      "outputs": []
    },
    {
      "cell_type": "markdown",
      "source": [
        "Q4. Explain the following with python code: read(), readline() and readlines()."
      ],
      "metadata": {
        "id": "nt6YkbIegWwi"
      }
    },
    {
      "cell_type": "code",
      "source": [
        "# assuming theres a txt called example.txt\n",
        "with open('example.txt', 'r') as file:\n",
        "    content = file.read()\n",
        "    print(\"Using read():\", content)\n",
        "#Reads the entire content of the file as a single string."
      ],
      "metadata": {
        "collapsed": true,
        "id": "jVSukJ9sgYhX"
      },
      "execution_count": 3,
      "outputs": []
    },
    {
      "cell_type": "code",
      "source": [
        "with open('example.txt', 'r') as file:\n",
        "    line = file.readline()\n",
        "    print(\"Using readline():\", line)\n",
        "#Reads one line at a time from the file."
      ],
      "metadata": {
        "id": "wwpLcx5diUjC"
      },
      "execution_count": null,
      "outputs": []
    },
    {
      "cell_type": "code",
      "source": [
        "with open('example.txt', 'r') as file:\n",
        "    lines = file.readlines()\n",
        "    print(\"Using readlines():\", lines)\n",
        "#Reads all lines of the file and returns them as a list of strings."
      ],
      "metadata": {
        "id": "sAdnNi56iUrP"
      },
      "execution_count": null,
      "outputs": []
    },
    {
      "cell_type": "code",
      "source": [],
      "metadata": {
        "id": "J-WTD_hNi2-M"
      },
      "execution_count": null,
      "outputs": []
    },
    {
      "cell_type": "markdown",
      "source": [
        "Q5. Explain why with statement is used with open(). What is the advantage of using with statement and\n",
        "open() together?\n"
      ],
      "metadata": {
        "id": "IJ2ww_higYqS"
      }
    },
    {
      "cell_type": "markdown",
      "source": [
        "It ensures that the file is properly closed after its operations, regardless of whether the code execution is successful or an exception occurs.\n",
        "\n",
        "Advantages:\n",
        "Automatic File Closure: Files are closed automatically after the code block is executed, eliminating the need for an explicit close().\n",
        "\n",
        "Prevents Resource Leaks: Ensures efficient use of system resources like file handles, avoiding issues caused by leaving files open.\n",
        "\n",
        "Simplifies Code: Makes code cleaner and less error-prone by abstracting resource management.\n",
        "\n",
        "Exception Safety: Handles exceptions gracefully, ensuring the file is closed even if an error occurs."
      ],
      "metadata": {
        "id": "ixZkjjnrzThQ"
      }
    },
    {
      "cell_type": "code",
      "source": [],
      "metadata": {
        "id": "ApnuB0hUi5_T"
      },
      "execution_count": null,
      "outputs": []
    },
    {
      "cell_type": "code",
      "source": [],
      "metadata": {
        "id": "8rPu_spNgZDc"
      },
      "execution_count": null,
      "outputs": []
    },
    {
      "cell_type": "markdown",
      "source": [
        "Q6. Explain the write() and writelines() functions. Give a suitable example."
      ],
      "metadata": {
        "id": "MHhba59Xi6ih"
      }
    },
    {
      "cell_type": "code",
      "source": [
        "# write(): Writes a single string to the file.\n",
        "\n",
        "with open('example.txt', 'w') as file:\n",
        "    file.write(\"I want to become a Data Scientist.\")\n"
      ],
      "metadata": {
        "id": "6sxteiR_i7CZ"
      },
      "execution_count": null,
      "outputs": []
    },
    {
      "cell_type": "code",
      "source": [
        "#writelines(): Writes a sequence of strings (like a list of strings) to the file.\n",
        "lines = [\n",
        "    \"Line 1: Python is great.\\n\",\n",
        "    \"Line 2: I love programming.\\n\",\n",
        "    \"Line 3: Data Science is exciting.\\n\"\n",
        "]\n",
        "with open('example.txt', 'w') as file:\n",
        "    file.writelines(lines)\n"
      ],
      "metadata": {
        "id": "hDfzjWGvzoMH"
      },
      "execution_count": null,
      "outputs": []
    }
  ]
}